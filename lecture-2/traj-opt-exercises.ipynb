{
 "cells": [
  {
   "cell_type": "code",
   "execution_count": null,
   "id": "58e46ea7",
   "metadata": {
    "vscode": {
     "languageId": "julia"
    }
   },
   "outputs": [],
   "source": []
  },
  {
   "cell_type": "markdown",
   "id": "12254267",
   "metadata": {},
   "source": [
    "# Exercise goals\n",
    "-----\n",
    "- Set up a nonlinear trajectory optimization problem for quantum optimal control."
   ]
  },
  {
   "cell_type": "code",
   "execution_count": null,
   "id": "5e98abc2",
   "metadata": {
    "vscode": {
     "languageId": "julia"
    }
   },
   "outputs": [],
   "source": []
  },
  {
   "cell_type": "markdown",
   "id": "132d2c1b",
   "metadata": {},
   "source": [
    "# Nonlinear trajectory optimization\n",
    "-----"
   ]
  },
  {
   "cell_type": "markdown",
   "id": "72a8df2c",
   "metadata": {},
   "source": [
    "How hard would it be to do an SQP for the single qubit?"
   ]
  },
  {
   "cell_type": "markdown",
   "id": "a552e380",
   "metadata": {},
   "source": []
  },
  {
   "cell_type": "markdown",
   "id": "d1f22cfc",
   "metadata": {},
   "source": [
    "# Bellman's principle\n",
    "-----"
   ]
  },
  {
   "cell_type": "markdown",
   "id": "93d0b134",
   "metadata": {},
   "source": [
    "Policy gradient"
   ]
  },
  {
   "cell_type": "markdown",
   "id": "d4f0dc3d",
   "metadata": {},
   "source": []
  }
 ],
 "metadata": {
  "language_info": {
   "name": "python"
  }
 },
 "nbformat": 4,
 "nbformat_minor": 5
}
