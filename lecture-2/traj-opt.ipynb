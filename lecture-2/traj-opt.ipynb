{
 "cells": [
  {
   "cell_type": "code",
   "execution_count": null,
   "id": "807b02df",
   "metadata": {},
   "outputs": [],
   "source": [
    "using LinearAlgebra\n",
    "using SparseArrays"
   ]
  },
  {
   "cell_type": "code",
   "execution_count": null,
   "id": "4e18aa43",
   "metadata": {},
   "outputs": [],
   "source": [
    "# let's define a shorthand for kron\n",
    "const ⊗ = kron"
   ]
  },
  {
   "cell_type": "markdown",
   "id": "61097614",
   "metadata": {},
   "source": [
    "# Getting started\n",
    "-----"
   ]
  },
  {
   "cell_type": "markdown",
   "id": "3b6e73ba",
   "metadata": {},
   "source": [
    "## Review\n",
    "- Gradient descent\n",
    "- Newton's method and KKT conditions\n",
    "- Regularization\n",
    "- Newton approximations\n",
    "- Line search\n",
    "- Exercises with GRAPE "
   ]
  },
  {
   "cell_type": "markdown",
   "id": "404c3624",
   "metadata": {},
   "source": [
    "## Goals\n",
    "- Introduce trajectory optimization\n",
    "- Solve the LQR problem three ways\n",
    "- Describe nonlinear trajectory optimization"
   ]
  },
  {
   "cell_type": "markdown",
   "id": "b998a6de",
   "metadata": {},
   "source": [
    "## Lessons from exercises"
   ]
  },
  {
   "cell_type": "markdown",
   "id": "8543ae3f",
   "metadata": {},
   "source": [
    "### GRAPE\n",
    "- Does not utilize temporal structure.\n",
    "\\begin{align}\n",
    "\\min_{u_{1:N}} &\\quad J(u_{1:N}) \n",
    "\\end{align}"
   ]
  },
  {
   "cell_type": "markdown",
   "id": "12fa66ed",
   "metadata": {},
   "source": [
    "### GRAPE: First order"
   ]
  },
  {
   "cell_type": "markdown",
   "id": "490287f8",
   "metadata": {},
   "source": [
    "- Slow"
   ]
  },
  {
   "cell_type": "code",
   "execution_count": null,
   "id": "2dcbcdc7",
   "metadata": {},
   "outputs": [],
   "source": []
  },
  {
   "cell_type": "markdown",
   "id": "f25c9cf0",
   "metadata": {},
   "source": [
    "### GRAPE: Second order\n",
    "- Fast"
   ]
  },
  {
   "cell_type": "code",
   "execution_count": null,
   "id": "db4e996e",
   "metadata": {},
   "outputs": [],
   "source": []
  },
  {
   "cell_type": "markdown",
   "id": "dc68eb39",
   "metadata": {},
   "source": [
    "# I. Trajectory optimization\n",
    "-----"
   ]
  },
  {
   "cell_type": "markdown",
   "id": "02506b4f",
   "metadata": {},
   "source": [
    "\\begin{align}\n",
    "\\min_{x_{1:N}, u_{1:N}} &\\quad J(x_{1:N}, u_{1:N}) = \\sum_{n=1}^N \\ell_n(x_n, u_n) + \\ell_N(x_N, u_N) \\\\\n",
    "\\text{s.t.} &\\quad x_{n+1} = f(x_n, u_n, n)\n",
    "\\end{align}"
   ]
  },
  {
   "cell_type": "code",
   "execution_count": null,
   "id": "6d597322",
   "metadata": {},
   "outputs": [],
   "source": []
  },
  {
   "cell_type": "markdown",
   "id": "44788a34",
   "metadata": {},
   "source": [
    "# II. Linear Quadratic Regulator\n",
    "-----"
   ]
  },
  {
   "cell_type": "markdown",
   "id": "d0edf55a",
   "metadata": {},
   "source": [
    "- LQR is the \"simple Harmonic oscillator\" of control\n",
    "\n",
    "\\begin{align}\n",
    "\\min_{x_{1:N}, u_{1:N}} &\\quad J = \\sum_{n=1}^N \\tfrac{1}{2} x_n^T Q_n x_n + \\tfrac{1}{2} u_n^T R_n u_n + \\tfrac{1}{2} x_N^T Q_N x_N \\\\\n",
    "\\text{s.t.} &\\quad x_{n+1} = A_n x_n + B_n u_n \\\\\n",
    "&\\quad Q_n \\succeq 0,\\, R_n \\succ 0\n",
    "\\end{align}"
   ]
  },
  {
   "cell_type": "markdown",
   "id": "4523b2d0",
   "metadata": {},
   "source": [
    "## Linear system"
   ]
  },
  {
   "cell_type": "markdown",
   "id": "a6b3b2e5",
   "metadata": {},
   "source": [
    "### Zero-order hold"
   ]
  },
  {
   "cell_type": "markdown",
   "id": "6be7b361",
   "metadata": {},
   "source": [
    "- Zero-order hold can be used to convert continuous, linear, time-invariant (LTI) systems to discrete LTI systems.\n",
    "\n",
    "\\begin{equation}\n",
    "\\dot{x} = A x + B u \\overset{h}{\\longrightarrow} \\overset{+}{x} = A_h x + B_h u = \\left( \\sum_{n\\ge0} \\tfrac{1}{n!} A^n h^n \\right) x + \\left( \\sum_{n\\ge1} \\tfrac{1}{n!} A^{n-1} B h^n \\right) u \\approx (I + h A) x + h B u\n",
    "\\end{equation}\n",
    "\n",
    "- Matrix exponential trick:\n",
    "\n",
    "\\begin{equation}\n",
    "\n",
    "\\exp\\left(\\begin{bmatrix} A & B \\\\ 0 & 0 \\end{bmatrix} h \\right)\n",
    "= \\begin{bmatrix} A_h & B_h \\\\ 0 & I \\end{bmatrix}\n",
    "\n",
    "\\end{equation}"
   ]
  },
  {
   "cell_type": "code",
   "execution_count": null,
   "id": "e89b90c9",
   "metadata": {},
   "outputs": [],
   "source": [
    "# Define continuous LTI system matrices\n",
    "A = [0.0 1.0; -1.0 -0.1]\n",
    "B = [0.0; 1.0]\n",
    "h = 0.1  # Time step\n",
    "\n",
    "function continuous_to_discrete(A, B, h)\n",
    "    # Construct augmented matrix for matrix exponential\n",
    "    augmented_matrix = [\n",
    "        A B; \n",
    "        zeros(size(B, 2), size(A, 1)) zeros(size(B, 2), size(B, 2))\n",
    "    ]\n",
    "\n",
    "    # Compute matrix exponential\n",
    "    exp_matrix = exp(augmented_matrix * h)\n",
    "\n",
    "    # Extract discrete LTI system matrices\n",
    "    A_h = exp_matrix[1:size(A, 1), 1:size(A, 2)]\n",
    "    B_h = exp_matrix[1:size(A, 1), size(A, 2)+1:end]\n",
    "\n",
    "    return A_h, B_h\n",
    "end\n",
    "\n",
    "# Extract discrete LTI system matrices\n",
    "A_h, B_h = continuous_to_discrete(A, B, h);"
   ]
  },
  {
   "cell_type": "code",
   "execution_count": null,
   "id": "d21e1860",
   "metadata": {},
   "outputs": [],
   "source": [
    "A_h"
   ]
  },
  {
   "cell_type": "code",
   "execution_count": null,
   "id": "fb33a39f",
   "metadata": {},
   "outputs": [],
   "source": [
    "I + A * h"
   ]
  },
  {
   "cell_type": "code",
   "execution_count": null,
   "id": "6d943c82",
   "metadata": {},
   "outputs": [],
   "source": [
    "B_h"
   ]
  },
  {
   "cell_type": "code",
   "execution_count": null,
   "id": "f8335c0b",
   "metadata": {},
   "outputs": [],
   "source": [
    "B * h"
   ]
  },
  {
   "cell_type": "markdown",
   "id": "c3cc9d76",
   "metadata": {},
   "source": [
    "### Double Integrator\n",
    "\n",
    "- Double integrator (Newton's second law, $F = ma$)\n",
    "\n",
    "\\begin{equation}\n",
    "\n",
    "m \\frac{d}{dt} \\begin{bmatrix} q \\\\ \\dot{q} \\end{bmatrix} \n",
    "= \\begin{bmatrix} 0 & m \\\\ 0 & 0 \\end{bmatrix} \\begin{bmatrix} q \\\\ \\dot{q} \\end{bmatrix}\n",
    "+ \\begin{bmatrix} 0 \\\\ u \\end{bmatrix}\n",
    "\n",
    "\\end{equation}"
   ]
  },
  {
   "cell_type": "code",
   "execution_count": null,
   "id": "a8ed30f4",
   "metadata": {},
   "outputs": [],
   "source": [
    "function double_integrator(m)\n",
    "    A_c = [0.0 1.0; 0.0 0.0]\n",
    "    B_c = [0.0; 1.0 / m]\n",
    "    return A_c, B_c\n",
    "end"
   ]
  },
  {
   "cell_type": "code",
   "execution_count": null,
   "id": "70d83e25",
   "metadata": {},
   "outputs": [],
   "source": [
    "m = 2.0 # Mass\n",
    "A_c , B_c = double_integrator(m)\n",
    "h = 0.05  # Time step\n",
    "A, B = continuous_to_discrete(A_c, B_c, h);"
   ]
  },
  {
   "cell_type": "code",
   "execution_count": null,
   "id": "3aeca948",
   "metadata": {},
   "outputs": [],
   "source": [
    "A ≈ I + A_c * h"
   ]
  },
  {
   "cell_type": "code",
   "execution_count": null,
   "id": "2f6b6fc4",
   "metadata": {},
   "outputs": [],
   "source": [
    "B ≈ B_c * h + [h^2 / 2m; 0]"
   ]
  },
  {
   "cell_type": "markdown",
   "id": "075ab535",
   "metadata": {},
   "source": [
    "## Indirect optimal control: Naive way"
   ]
  },
  {
   "cell_type": "markdown",
   "id": "3da4a986",
   "metadata": {},
   "source": [
    "- Indirect optimal control is also known as \"single shooting\"\n",
    "- The naive way is to perform gradient descent without any problem structure, like in GRAPE.\n",
    "\n",
    "\\begin{align}\n",
    "\\min_{u_{1:N}} &\\quad J(u_{1:N}) = \\sum_{n=1}^N \\ell_n(x_n(u_{1:n{-}1}), u_n) + \\ell_N(x_N(u_{1:N{-}1}), u_N) \\\\\n",
    "\\end{align}\n",
    "\n",
    "- We will start with the double integrator and solve the LQR problem,\n",
    "\\begin{align}\n",
    "\\min_{u_{1:N}} &\\quad J = \\sum_{n=1}^N \\tfrac{1}{2} x_n(u_{1:n{-}1})^T Q_n x_n(u_{1:n{-}1}) + \\tfrac{1}{2} u_n^T R_n u_n + \\tfrac{1}{2} x_N(u_{1:N{-}1})^T Q_N x_N(u_{1:N{-}1}) \\\\\n",
    "\\text{s.t.} &\\quad Q_n \\succeq 0,\\, R_n \\succ 0\n",
    "\\end{align}\n"
   ]
  },
  {
   "cell_type": "code",
   "execution_count": null,
   "id": "65746d46",
   "metadata": {},
   "outputs": [],
   "source": [
    "m = 2.0 # Mass\n",
    "A_c , B_c = double_integrator(m)\n",
    "h = 0.05  # Time step\n",
    "A, B = continuous_to_discrete(A_c, B_c, h);"
   ]
  },
  {
   "cell_type": "code",
   "execution_count": null,
   "id": "b2a64e90",
   "metadata": {},
   "outputs": [],
   "source": [
    "function J(u; x₁=[0; 0], Q = 1.0I, R = 0.01I, QN = 100.0I)\n",
    "    N = length(u) + 1\n",
    "    J = 0.0\n",
    "    xₙ = x₁\n",
    "    for n in 1:N-1\n",
    "        uₙ = u[n]\n",
    "        J += 0.5 * (xₙ' * Q * xₙ + uₙ' * R * uₙ)\n",
    "        xₙ = A * xₙ + B * uₙ\n",
    "    end\n",
    "    J += 0.5 * (xₙ' * QN * xₙ)\n",
    "    return J\n",
    "end"
   ]
  },
  {
   "cell_type": "markdown",
   "id": "3154accd",
   "metadata": {},
   "source": [
    "### Gradient descent"
   ]
  },
  {
   "cell_type": "code",
   "execution_count": null,
   "id": "f63052fe",
   "metadata": {},
   "outputs": [],
   "source": []
  },
  {
   "cell_type": "markdown",
   "id": "bc2ccac8",
   "metadata": {},
   "source": [
    "### Newton's method"
   ]
  },
  {
   "cell_type": "code",
   "execution_count": null,
   "id": "dcf2bfd0",
   "metadata": {},
   "outputs": [],
   "source": []
  },
  {
   "cell_type": "markdown",
   "id": "736c60d9",
   "metadata": {},
   "source": [
    "## Indirect optimal control: Apply KKT"
   ]
  },
  {
   "cell_type": "markdown",
   "id": "2dc824fe",
   "metadata": {},
   "source": [
    "- Use KKT conditions because we have a constraint\n",
    "- We can this in a smart way using the temporal structure of the problem\n",
    "\n",
    "\\begin{align}\n",
    "\\min_{x_{1:N}, u_{1:N}} &\\quad J = \\sum_{n=1}^N \\tfrac{1}{2} x_n^T Q_n x_n + \\tfrac{1}{2} u_n^T R_n u_n + \\tfrac{1}{2} x_N^T Q_N x_N \\\\\n",
    "\\text{s.t.} &\\quad x_{n+1} = A_n x_n + B_n u_n \\\\\n",
    "&\\quad Q_n \\succeq 0,\\, R_n \\succ 0\n",
    "\\end{align}\n",
    "\n"
   ]
  },
  {
   "cell_type": "code",
   "execution_count": null,
   "id": "d46eefd4",
   "metadata": {},
   "outputs": [],
   "source": [
    "m = 2.0 # Mass\n",
    "A_c , B_c = double_integrator(m)\n",
    "h = 0.05  # Time step\n",
    "A, B = continuous_to_discrete(A_c, B_c, h);"
   ]
  },
  {
   "cell_type": "markdown",
   "id": "ebf11884",
   "metadata": {},
   "source": [
    "## Direct optimal control"
   ]
  },
  {
   "cell_type": "markdown",
   "id": "3cf41603",
   "metadata": {},
   "source": [
    "- Package the optimization variables into a trajectory\n",
    "- Set up a quadratic program defined over the trajectory\n",
    "- Observe the presence of sparsity\n",
    "\n",
    "\\begin{align}\n",
    "\\min_{x_{1:N}, u_{1:N}} &\\quad J = \\sum_{n=1}^N \\tfrac{1}{2} x_n^T Q_n x_n + \\tfrac{1}{2} u_n^T R_n u_n + \\tfrac{1}{2} x_N^T Q_N x_N \\\\\n",
    "\\text{s.t.} &\\quad x_{n+1} = A_n x_n + B_n u_n \\\\\n",
    "&\\quad Q_n \\succeq 0,\\, R_n \\succ 0\n",
    "\\end{align}"
   ]
  },
  {
   "cell_type": "code",
   "execution_count": null,
   "id": "e3e9c8e5",
   "metadata": {},
   "outputs": [],
   "source": [
    "m = 2.0 # Mass\n",
    "A_c , B_c = double_integrator(m)\n",
    "h = 0.05  # Time step\n",
    "A, B = continuous_to_discrete(A_c, B_c, h);\n",
    "\n",
    "N = 100\n",
    "x1 = [1.0; 0.0] # Initial state\n",
    "\n",
    "# Use sparse arrays\n",
    "Q = sparse(1.0I(2))\n",
    "R = sparse(0.01I(1))\n",
    "QN = sparse(10.0I(2))"
   ]
  },
  {
   "cell_type": "markdown",
   "id": "5cf44c24",
   "metadata": {},
   "source": [
    "Define \n",
    "\\begin{align}\n",
    "Z &= \\begin{bmatrix} \n",
    "    x_1 & x_2 & \\cdots & x_N \\\\\n",
    "    u_1 & u_2 & \\cdots & u_N \n",
    "\\end{bmatrix} \\\\\n",
    "\\Rightarrow \\vec{Z} &= \\begin{bmatrix} x_1 \\\\ u_1 \\\\ x_2 \\\\ u_2 \\\\ \\vdots \\\\ x_N \\\\ u_N \\end{bmatrix}\n",
    "\\end{align}\n",
    "and drop the first state (known) and last control (not used),\n",
    "\\begin{equation}\n",
    " z = \\vec{Z}[\\text{length}(x_1){:}\\text{end}{-}\\text{length}(u_N)]\n",
    "\\end{equation}"
   ]
  },
  {
   "cell_type": "code",
   "execution_count": null,
   "id": "09d80ab5",
   "metadata": {},
   "outputs": [],
   "source": []
  },
  {
   "cell_type": "code",
   "execution_count": null,
   "id": "3cc4d9c1",
   "metadata": {},
   "outputs": [],
   "source": []
  },
  {
   "cell_type": "markdown",
   "id": "a8696011",
   "metadata": {},
   "source": [
    "Write the cost function as $J = \\tfrac{1}{2} z^T H z$, where\n",
    "\\begin{equation}\n",
    "    H = \\begin{bmatrix}\n",
    "        R_1 & 0 & 0 & & 0 \\\\\n",
    "        0 & Q_2 & 0 & \\cdots & 0 \\\\\n",
    "        0 & 0 & R_2 & & 0 \\\\\n",
    "        & \\vdots & & \\ddots & \\vdots \\\\\n",
    "        0 & 0 & 0 & \\cdots & Q_N \\\\\n",
    "    \\end{bmatrix}.\n",
    "\\end{equation}"
   ]
  },
  {
   "cell_type": "code",
   "execution_count": null,
   "id": "ad371555",
   "metadata": {},
   "outputs": [],
   "source": [
    "# Recall our shorthand for kron\n",
    "H = blockdiag(R, I(N-2) ⊗ blockdiag(Q, R), QN)"
   ]
  },
  {
   "cell_type": "markdown",
   "id": "055b4cba",
   "metadata": {},
   "source": [
    "Write the dynamics constraint, $Cz = d$, where\n",
    "\\begin{equation}\n",
    "C = \\begin{bmatrix}\n",
    "    -B_1 & I & 0 & 0 & & 0 \\\\\n",
    "    0 & -A_2 & -B_2 & I & \\cdots & 0 \\\\\n",
    "    \\vdots & \\vdots & \\ddots & \\ddots & \\ddots & 0 \\\\\n",
    "    0 & 0 & \\cdots & -A_{N-1} & -B_{N-1} & I\n",
    "\\end{bmatrix}, \\qquad\n",
    "d = \\begin{bmatrix}\n",
    "    A_1 x_1 \\\\\n",
    "    0 \\\\\n",
    "    0 \\\\\n",
    "    \\vdots \\\\\n",
    "    0\n",
    "\\end{bmatrix}\n",
    "\\end{equation}\n"
   ]
  },
  {
   "cell_type": "code",
   "execution_count": null,
   "id": "463f1364",
   "metadata": {},
   "outputs": [],
   "source": [
    "C = [-B I(2)]"
   ]
  },
  {
   "cell_type": "code",
   "execution_count": null,
   "id": "668ae86f",
   "metadata": {},
   "outputs": [],
   "source": [
    "d = [-A * x1; zeros(size(C, 1) - length(x1)]"
   ]
  },
  {
   "cell_type": "markdown",
   "id": "ca1f1795",
   "metadata": {},
   "source": [
    "Putting it all together, \n",
    "\\begin{align}\n",
    "    \\min_z &\\quad \\tfrac{1}{2} z^T H z \\\\\n",
    "    \\text{s.t.}&\\quad C z = d\n",
    "\\end{align}"
   ]
  },
  {
   "cell_type": "markdown",
   "id": "157ac404",
   "metadata": {},
   "source": [
    "- Lagrangian:\n",
    "\\begin{equation}\n",
    "    L(z, \\lambda) = \\tfrac{1}{2} z^T H z + \\lambda^T (C z - d)\n",
    "\\end{equation}"
   ]
  },
  {
   "cell_type": "markdown",
   "id": "d609af3f",
   "metadata": {},
   "source": [
    "- KKT conditions:\n",
    "\\begin{align}\n",
    "    & \\nabla_z L = H z + C^T \\lambda \\overset{!}{=} 0 \\\\\n",
    "    & \\nabla_\\lambda L = Cz - d \\overset{!}{=} 0 \\\\\n",
    "\\end{align}\n",
    "\n",
    "- Matrix form:\n",
    "\\begin{equation}\n",
    "    \\Rightarrow \\begin{bmatrix} H & C^T \\\\ C & 0 \\end{bmatrix} \n",
    "    \\begin{bmatrix} z \\\\ \\lambda \\end{bmatrix} \n",
    "    = \\begin{bmatrix} 0 \\\\ d \\end{bmatrix}\n",
    "\\end{equation}\n",
    "\n",
    "- How many iterations will this take to solve?"
   ]
  },
  {
   "cell_type": "markdown",
   "id": "98da5829",
   "metadata": {
    "vscode": {
     "languageId": "julia"
    }
   },
   "source": [
    "# III. Any last topics?\n",
    "-----"
   ]
  },
  {
   "cell_type": "markdown",
   "id": "aa112866",
   "metadata": {},
   "source": [
    "- could teach DARE\n",
    "- could mention nonlinear or leave for exercises"
   ]
  },
  {
   "cell_type": "markdown",
   "id": "e866bcd2",
   "metadata": {},
   "source": []
  }
 ],
 "metadata": {
  "kernelspec": {
   "display_name": "Julia 1.11.5",
   "language": "julia",
   "name": "julia-1.11"
  },
  "language_info": {
   "file_extension": ".jl",
   "mimetype": "application/julia",
   "name": "julia",
   "version": "1.11.5"
  }
 },
 "nbformat": 4,
 "nbformat_minor": 5
}
