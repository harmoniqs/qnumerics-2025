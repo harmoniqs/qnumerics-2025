{
 "cells": [
  {
   "cell_type": "code",
   "execution_count": null,
   "id": "2b465dfd",
   "metadata": {},
   "outputs": [],
   "source": []
  },
  {
   "cell_type": "markdown",
   "id": "3a4aa6b5",
   "metadata": {},
   "source": [
    "# Getting started\n",
    "-----"
   ]
  },
  {
   "cell_type": "markdown",
   "id": "40dfc6a9",
   "metadata": {},
   "source": [
    "## Goals\n",
    "- Gradient descent\n",
    "- Newton's method and KKT conditions\n",
    "- Regularization\n",
    "- Newton approximations\n",
    "- Line search\n",
    "- Exercises with GRAPE "
   ]
  },
  {
   "cell_type": "markdown",
   "id": "9502aaf6",
   "metadata": {},
   "source": [
    "# I. Unconstrained Optimization"
   ]
  },
  {
   "cell_type": "code",
   "execution_count": null,
   "id": "12376703",
   "metadata": {},
   "outputs": [],
   "source": [
    "function h(x)\n",
    "    return x.^4 + x.^3 - x.^2 - x\n",
    "end\n",
    "\n",
    "function ∇h(x)\n",
    "    return 4.0*x.^3 + 3.0*x.^2 - 2.0*x - 1.0\n",
    "end\n",
    "\n",
    "function ∇²h(x)\n",
    "    return 12.0*x.^2 + 6.0*x - 2.0\n",
    "end\n",
    "\n",
    "x = range(-1.75,1.25,1000)"
   ]
  },
  {
   "cell_type": "code",
   "execution_count": null,
   "id": "96243f4d",
   "metadata": {},
   "outputs": [],
   "source": [
    "function newton_step(xᵢ)\n",
    "    return xᵢ - ∇²h(xᵢ)\\∇h(xᵢ)\n",
    "end\n",
    "\n",
    "## Initial guess\n",
    "xᵢ = 1.19\n",
    "# xᵢ = 0.0\n",
    "\n",
    "## Initial plot\n",
    "fig1 = Figure()\n",
    "ax1 = Axis(fig1[1,1])\n",
    "lines!(ax1, x, h(x))"
   ]
  },
  {
   "cell_type": "code",
   "execution_count": null,
   "id": "205ad20f",
   "metadata": {},
   "outputs": [],
   "source": [
    "xᵢ₊₁ = newton_step(xᵢ) \n",
    "plot!(ax1, [xᵢ], [h(xᵢ)], color=:orange, marker='x', markersize=25)\n",
    "xᵢ = xᵢ₊₁\n",
    "fig1"
   ]
  },
  {
   "cell_type": "markdown",
   "id": "6cb8cb05",
   "metadata": {},
   "source": [
    "## Add regularization"
   ]
  },
  {
   "cell_type": "code",
   "execution_count": null,
   "id": "a0772cd1",
   "metadata": {},
   "outputs": [],
   "source": [
    "function regularized_newton_step(xᵢ)\n",
    "    β = 1.0\n",
    "    H = ∇²h(xᵢ)\n",
    "    while !isposdef(H)\n",
    "        H = H + β*I\n",
    "    end\n",
    "    return xᵢ - H\\∇h(xᵢ)\n",
    "end\n",
    "\n",
    "## Initial guess\n",
    "# xᵢ = 1.19\n",
    "xᵢ = 0.0\n",
    "\n",
    "## Initial plot\n",
    "fig1 = Figure()\n",
    "ax1 = Axis(fig1[1,1])\n",
    "lines!(ax1, x, h(x))"
   ]
  },
  {
   "cell_type": "code",
   "execution_count": null,
   "id": "827d1825",
   "metadata": {},
   "outputs": [],
   "source": [
    "xᵢ₊₁ = regularized_newton_step(xᵢ) \n",
    "plot!(ax1, [xᵢ], [h(xᵢ)], color=:red, marker='x', markersize=25)\n",
    "xᵢ = xᵢ₊₁\n",
    "fig1"
   ]
  },
  {
   "cell_type": "markdown",
   "id": "285b6606",
   "metadata": {},
   "source": [
    "## Add line search"
   ]
  },
  {
   "cell_type": "code",
   "execution_count": null,
   "id": "661e99a5",
   "metadata": {},
   "outputs": [],
   "source": [
    "function backtracking_regularized_newton_step(xᵢ)\n",
    "    H = ∇²h(xᵢ)\n",
    "\n",
    "    ## regularization\n",
    "    β = 1.0\n",
    "    while !isposdef(H)\n",
    "        H = H + β*I\n",
    "    end\n",
    "    Δx = -H\\∇h(xᵢ)\n",
    "\n",
    "    ## line search\n",
    "    b = 0.1\n",
    "    c = 0.25\n",
    "    α = 1.0\n",
    "    while h(xᵢ + α*Δx) > h(xᵢ) + b*α*∇h(xᵢ)*Δx\n",
    "        α = c*α\n",
    "    end\n",
    "    \n",
    "    return xᵢ + α*Δx\n",
    "end\n",
    "\n",
    "## Initial guess\n",
    "# xᵢ = 1.19\n",
    "xᵢ = 0.0\n",
    "\n",
    "## Initial plot\n",
    "fig1 = Figure()\n",
    "ax1 = Axis(fig1[1,1])\n",
    "lines!(ax1, x, h(x))"
   ]
  },
  {
   "cell_type": "code",
   "execution_count": null,
   "id": "113f6a77",
   "metadata": {},
   "outputs": [],
   "source": [
    "xᵢ₊₁ = backtracking_regularized_newton_step(xᵢ) \n",
    "plot!(ax1, [xᵢ], [h(xᵢ)], color=:green, marker='x', markersize=25)\n",
    "xᵢ = xᵢ₊₁\n",
    "fig1"
   ]
  },
  {
   "cell_type": "markdown",
   "id": "ad2d4f51",
   "metadata": {},
   "source": [
    "# II. Constrained Optimization"
   ]
  },
  {
   "cell_type": "code",
   "execution_count": null,
   "id": "bf8e16d9",
   "metadata": {},
   "outputs": [],
   "source": [
    "Q = Diagonal([0.5; 1])\n",
    "\n",
    "## Objective\n",
    "function J(x)\n",
    "    return 1 / 2 * (x - [1; 0])' * Q * (x - [1; 0])\n",
    "end\n",
    "\n",
    "function ∇J(x)\n",
    "    return Q * (x - [1; 0])\n",
    "end\n",
    "\n",
    "function ∇²J(x)\n",
    "    return Q\n",
    "end\n",
    "\n",
    "## Linear constraint -- you can try this, also.\n",
    "# A = [1.0 -1.0]\n",
    "# b = -1.0\n",
    "# function f(x)\n",
    "#     return A * x - b\n",
    "# end\n",
    "\n",
    "# function ∂f(x)\n",
    "#     return A\n",
    "# end\n",
    "\n",
    "## Nonlinear constraint\n",
    "function f(x)\n",
    "    return x[1]^2 + 2*x[1] - x[2]\n",
    "end\n",
    "\n",
    "function ∂f(x)\n",
    "    return [2*x[1]+2 -1]\n",
    "end"
   ]
  },
  {
   "cell_type": "code",
   "execution_count": null,
   "id": "2eb3ab95",
   "metadata": {},
   "outputs": [],
   "source": [
    "function draw_contour(ax; samples=40, levels=25)\n",
    "    cols = kron(ones(samples), range(-4, 4, samples)')\n",
    "    rows = kron(ones(samples)', range(-4, 4, samples))\n",
    "    vals = zeros(samples,samples)\n",
    "    for j = 1:samples\n",
    "        for k = 1:samples\n",
    "            vals[j, k] = J([cols[j, k]; rows[j, k]])\n",
    "        end\n",
    "    end\n",
    "    contour!(ax, vec(cols), vec(rows), vec(vals), levels=levels)\n",
    "\n",
    "    ## Linear x - y + 1 = 0 -- uncomment this if you want to try linear constraint\n",
    "    # constraint = range(-4, 3, samples)\n",
    "    # lines!(ax, constraint, constraint .+ 1, color=:black, linewidth=2)\n",
    "\n",
    "    ## Nonlinear x^2 + 2x - y = 0\n",
    "    constraint = range(-3.2, 1.2, samples)\n",
    "    lines!(ax, constraint, constraint.^2 .+ 2*constraint, color=:black, linewidth=2)\n",
    "end"
   ]
  },
  {
   "cell_type": "code",
   "execution_count": null,
   "id": "539bb98d",
   "metadata": {},
   "outputs": [],
   "source": [
    "function newton_step(xᵢ, λᵢ)\n",
    "    ∂²L_∂x² = ∇²J(xᵢ) + ForwardDiff.jacobian(x -> ∂f(x)'λᵢ, xᵢ)\n",
    "    ∂f_∂x = ∂f(xᵢ)\n",
    "\n",
    "    ## KKT system\n",
    "    H = [∂²L_∂x² ∂f_∂x'; ∂f_∂x 0]\n",
    "    g = [∇J(xᵢ) + ∂f_∂x'λᵢ; f(xᵢ)]\n",
    "    \n",
    "    Δz = -H\\g\n",
    "    Δx = Δz[1:2]\n",
    "    Δλ = Δz[3]\n",
    "    return xᵢ .+ Δx, λᵢ .+ Δλ\n",
    "end"
   ]
  },
  {
   "cell_type": "code",
   "execution_count": null,
   "id": "18c0c745",
   "metadata": {},
   "outputs": [],
   "source": [
    "fig = Figure()\n",
    "ax = Axis(fig[1,1], aspect=1)\n",
    "\n",
    "## Initial guess\n",
    "# xᵢ = Float64[-0.75; -1.75]\n",
    "xᵢ = Float64[-3; 2]\n",
    "λᵢ = Float64[0.0]\n",
    "\n",
    "## Draw the initial contours and the initial guess\n",
    "draw_contour(ax)\n",
    "plot!(ax, [xᵢ[1]], [xᵢ[2]], color=:red, marker=:circle, markersize=15)\n",
    "fig"
   ]
  },
  {
   "cell_type": "code",
   "execution_count": null,
   "id": "74280fce",
   "metadata": {},
   "outputs": [],
   "source": [
    "xᵢ₊₁, λᵢ₊₁ = newton_step(xᵢ, λᵢ)\n",
    "plot!(ax, [xᵢ₊₁[1]], [xᵢ₊₁[2]], color=:red, marker=:x, markersize=15)\n",
    "xᵢ .= xᵢ₊₁\n",
    "λᵢ .= λᵢ₊₁\n",
    "\n",
    "fig"
   ]
  },
  {
   "cell_type": "code",
   "execution_count": null,
   "id": "a69995c1",
   "metadata": {},
   "outputs": [],
   "source": [
    "## Inspect the Hessian\n",
    "H = ∇²J(xᵢ) + ForwardDiff.jacobian(x -> ∂f(x)'λᵢ, xᵢ)"
   ]
  },
  {
   "cell_type": "code",
   "execution_count": null,
   "id": "171361ee",
   "metadata": {},
   "outputs": [],
   "source": [
    "xᵢ₊₁, λᵢ₊₁ = gauss_newton_step(xᵢ, λᵢ)\n",
    "plot!(ax, [xᵢ₊₁[1]], [xᵢ₊₁[2]], color=:green, marker=:x, markersize=15)\n",
    "xᵢ .= xᵢ₊₁\n",
    "λᵢ .= λᵢ₊₁\n",
    "\n",
    "fig"
   ]
  }
 ],
 "metadata": {
  "kernelspec": {
   "display_name": "Julia 1.11.5",
   "language": "julia",
   "name": "julia-1.11"
  },
  "language_info": {
   "file_extension": ".jl",
   "mimetype": "application/julia",
   "name": "julia",
   "version": "1.11.5"
  }
 },
 "nbformat": 4,
 "nbformat_minor": 5
}
