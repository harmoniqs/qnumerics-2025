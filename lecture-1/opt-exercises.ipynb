{
 "cells": [
  {
   "cell_type": "code",
   "execution_count": null,
   "id": "846ea9ae",
   "metadata": {},
   "outputs": [],
   "source": []
  },
  {
   "cell_type": "markdown",
   "id": "853a55d9",
   "metadata": {},
   "source": [
    "# Exercise goals\n",
    "-----\n",
    "- Learn the quantum isomorphisms that map variables to real-valued state vectors\n",
    "- Study how gradient descent and Newton's method can be used to optimize quantum controls. "
   ]
  },
  {
   "cell_type": "markdown",
   "id": "a7ff284e",
   "metadata": {},
   "source": [
    "# I. Quantum dynamics\n",
    "-----"
   ]
  },
  {
   "cell_type": "markdown",
   "id": "415568b2",
   "metadata": {},
   "source": [
    "- Let's flip a qubit from the ground state to the excited state.\n",
    "- Introduce the isomorphisms that make quantum dynamics real-valued.  \n",
    "- Use [PiccoloQuantumObjects](https://docs.harmoniqs.co/PiccoloQuantumObjects/dev/) to make a quantum system.\n",
    "- Use a rollout to integrate the quantum system forward in time."
   ]
  },
  {
   "cell_type": "code",
   "execution_count": null,
   "id": "48dbe9f6",
   "metadata": {},
   "outputs": [],
   "source": []
  },
  {
   "cell_type": "code",
   "execution_count": null,
   "id": "809446cf",
   "metadata": {},
   "outputs": [],
   "source": []
  },
  {
   "cell_type": "code",
   "execution_count": null,
   "id": "214df1ee",
   "metadata": {},
   "outputs": [],
   "source": []
  },
  {
   "cell_type": "markdown",
   "id": "b5ec4905",
   "metadata": {},
   "source": [
    "# II. GRAPE\n",
    "-----"
   ]
  },
  {
   "cell_type": "markdown",
   "id": "67039ab2",
   "metadata": {},
   "source": [
    "The [GRAPE algorithm](https://doi.org/10.1016/j.jmr.2004.11.004) comes from NMR in 2004, and there is a [Julia version](https://github.com/JuliaQuantumControl/GRAPE.jl). We'll reproduce GRAPE in this example."
   ]
  },
  {
   "cell_type": "markdown",
   "id": "1cbd0c65",
   "metadata": {
    "vscode": {
     "languageId": "plaintext"
    }
   },
   "source": [
    "## Automatic differentiation"
   ]
  },
  {
   "cell_type": "code",
   "execution_count": null,
   "id": "9d30d33f",
   "metadata": {},
   "outputs": [],
   "source": []
  },
  {
   "cell_type": "markdown",
   "id": "25bd9bc5",
   "metadata": {
    "vscode": {
     "languageId": "plaintext"
    }
   },
   "source": [
    "## Manual gradients\n",
    "- We can combine forward and backward rollouts to compute the gradients analytically."
   ]
  },
  {
   "cell_type": "code",
   "execution_count": null,
   "id": "574774ff",
   "metadata": {},
   "outputs": [],
   "source": []
  },
  {
   "cell_type": "markdown",
   "id": "60ad46e6",
   "metadata": {},
   "source": [
    "# III. GRAFS\n",
    "-----"
   ]
  },
  {
   "cell_type": "markdown",
   "id": "3e2fd427",
   "metadata": {},
   "source": [
    "- Pick a function basis for the controls and optimize the coefficients"
   ]
  },
  {
   "cell_type": "code",
   "execution_count": null,
   "id": "3435a7e7",
   "metadata": {},
   "outputs": [],
   "source": []
  },
  {
   "cell_type": "markdown",
   "id": "731c4aae",
   "metadata": {},
   "source": [
    "## Control filters"
   ]
  },
  {
   "cell_type": "markdown",
   "id": "b9b886bb",
   "metadata": {},
   "source": [
    "- Add spectral filters to the controls"
   ]
  },
  {
   "cell_type": "code",
   "execution_count": null,
   "id": "454aa49d",
   "metadata": {},
   "outputs": [],
   "source": []
  },
  {
   "cell_type": "markdown",
   "id": "578ece74",
   "metadata": {},
   "source": [
    "# IV. States in costs\n",
    "-----"
   ]
  },
  {
   "cell_type": "markdown",
   "id": "f53dca8b",
   "metadata": {},
   "source": [
    "- Let's switch to a transmon, which can be _leaky_.\n",
    "- Add a leakage penalty. Notice that working with states can be awkward."
   ]
  },
  {
   "cell_type": "code",
   "execution_count": null,
   "id": "ab5a7572",
   "metadata": {},
   "outputs": [],
   "source": []
  }
 ],
 "metadata": {
  "kernelspec": {
   "display_name": "Julia 1.11.5",
   "language": "julia",
   "name": "julia-1.11"
  },
  "language_info": {
   "file_extension": ".jl",
   "mimetype": "application/julia",
   "name": "julia",
   "version": "1.11.5"
  }
 },
 "nbformat": 4,
 "nbformat_minor": 5
}
