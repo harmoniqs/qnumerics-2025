{
 "cells": [
  {
   "cell_type": "code",
   "execution_count": null,
   "id": "d9eb588e",
   "metadata": {
    "vscode": {
     "languageId": "plaintext"
    }
   },
   "outputs": [],
   "source": []
  },
  {
   "cell_type": "markdown",
   "id": "0d328ddf",
   "metadata": {},
   "source": [
    "# Getting started\n",
    "-----"
   ]
  },
  {
   "cell_type": "markdown",
   "id": "f92dc327",
   "metadata": {},
   "source": [
    "## Review\n",
    "- Direct optimal control had a number of advantages."
   ]
  },
  {
   "cell_type": "markdown",
   "id": "abfb8ba0",
   "metadata": {},
   "source": []
  },
  {
   "cell_type": "markdown",
   "id": "dde89ee5",
   "metadata": {},
   "source": [
    "# I. Rotations"
   ]
  },
  {
   "cell_type": "markdown",
   "id": "9b6d83bd",
   "metadata": {},
   "source": []
  },
  {
   "cell_type": "markdown",
   "id": "31156823",
   "metadata": {},
   "source": [
    "# II. IPOPT "
   ]
  },
  {
   "cell_type": "markdown",
   "id": "b289322e",
   "metadata": {},
   "source": [
    "From the IPOPT documentation (https://coin-or.github.io/Ipopt/OUTPUT.html):\n",
    "\n",
    "- **inf_pr**: The unscaled constraint violation at the current point. This quantity is the infinity-norm (max) of the (unscaled) constraints ( gL≤g(x)≤gU in (NLP)). During the restoration phase, this value remains the constraint violation of the original problem at the current point. The option inf_pr_output can be used to switch to the printing of a different quantity.\n",
    "\n",
    "- **inf_du**: The scaled dual infeasibility at the current point. This quantity measure the infinity-norm (max) of the internal dual infeasibility, Eq. (4a) in the implementation paper [12], including inequality constraints reformulated using slack variables and problem scaling. During the restoration phase, this is the value of the dual infeasibility for the restoration phase problem.\n",
    "\n",
    "- **lg(mu)**: log10 of the value of the barrier parameter μ.\n",
    "\n",
    "- **||d||**: The infinity norm (max) of the primal step (for the original variables x and the internal slack variables s). During the restoration phase, this value includes the values of additional variables, p and n (see Eq. (30) in [12]).\n",
    "\n",
    "- **lg(rg)**: log10 of the value of the regularization term for the Hessian of the Lagrangian in the augmented system ( δw in Eq. (26) and Section 3.1 in [12]). A dash (\"-\") indicates that no regularization was done.\n",
    "\n",
    "- **alpha_du**: The stepsize for the dual variables ( αzk in Eq. (14c) in [12])."
   ]
  },
  {
   "cell_type": "markdown",
   "id": "ac6e2a23",
   "metadata": {},
   "source": []
  }
 ],
 "metadata": {
  "language_info": {
   "name": "python"
  }
 },
 "nbformat": 4,
 "nbformat_minor": 5
}
