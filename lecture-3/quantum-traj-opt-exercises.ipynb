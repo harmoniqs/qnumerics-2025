{
 "cells": [
  {
   "cell_type": "code",
   "execution_count": null,
   "id": "f7733187",
   "metadata": {
    "vscode": {
     "languageId": "julia"
    }
   },
   "outputs": [],
   "source": []
  },
  {
   "cell_type": "markdown",
   "id": "cbe3c7be",
   "metadata": {},
   "source": [
    " - do stuff in Piccolo"
   ]
  },
  {
   "cell_type": "markdown",
   "id": "1a2dc177",
   "metadata": {},
   "source": []
  }
 ],
 "metadata": {
  "language_info": {
   "name": "python"
  }
 },
 "nbformat": 4,
 "nbformat_minor": 5
}
